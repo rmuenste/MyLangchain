{
 "cells": [
  {
   "cell_type": "code",
   "execution_count": 11,
   "id": "c25832f5-1612-4af0-b657-de90c71f1d1c",
   "metadata": {},
   "outputs": [],
   "source": [
    "import os\n",
    "from typing import TypedDict, Annotated, Sequence\n",
    "import operator\n",
    "from langchain_core.messages import BaseMessage\n",
    "\n",
    "from dotenv import load_dotenv\n",
    "from langchain_openai import ChatOpenAI\n",
    "from langgraph.graph import Graph, StateGraph, START, END\n",
    "from langgraph.graph.message import add_messages\n",
    "from langchain_core.messages import  AIMessage, HumanMessage, ToolMessage\n",
    "\n",
    "from langchain_community.tools.tavily_search import TavilySearchResults\n",
    "\n",
    "load_dotenv(dotenv_path=\"../.env\")\n",
    "\n",
    "# Create the llm structure\n",
    "model = ChatOpenAI(model=\"gpt-3.5-turbo\", temperature=0.5)\n",
    "#model = ChatOpenAI(model=\"gpt-4\")\n",
    "tool = TavilySearchResults(max_results=2)\n",
    "tools = [tool]\n",
    "#tool.invoke(\"What's a 'node' in LangGraph?\")\n",
    "\n",
    "llm_with_tools = model.bind_tools(tools)"
   ]
  },
  {
   "cell_type": "code",
   "execution_count": 2,
   "id": "ed0ca5d6-04b7-483c-8230-ffab3ced5eed",
   "metadata": {},
   "outputs": [],
   "source": [
    "class CustomState(TypedDict):\n",
    "    messages: Annotated[list, add_messages]"
   ]
  },
  {
   "cell_type": "code",
   "execution_count": 13,
   "id": "ca911c3e-ea4c-4ed0-bfa0-37f735cf8543",
   "metadata": {},
   "outputs": [],
   "source": [
    "def node1(state: CustomState):\n",
    "    return {\"messages\": [AIMessage(content=\"Hello! What can I do for you today?\")]}\n",
    "\n",
    "def node2(state: CustomState):    \n",
    "    return {\"messages\": [HumanMessage(content=\"Nothing, thank you and goodbye!\")]}\n",
    "\n",
    "def chatbot(state: CustomState):\n",
    "    return {\"messages\": [llm_with_tools.invoke(state[\"messages\"])]}"
   ]
  },
  {
   "cell_type": "code",
   "execution_count": 14,
   "id": "6df0f9bb-5d93-407c-8077-6de1b9b66471",
   "metadata": {},
   "outputs": [
    {
     "data": {
      "image/jpeg": "[encoded data removed]",
      "text/plain": [
       "<IPython.core.display.Image object>"
      ]
     },
     "metadata": {},
     "output_type": "display_data"
    }
   ],
   "source": [
    "graph = StateGraph(CustomState)\n",
    "graph.add_node(\"node1\", node1)\n",
    "graph.add_node(\"node2\", node2)\n",
    "graph.add_edge(START, \"node1\")\n",
    "graph.add_edge(\"node1\", \"node2\")\n",
    "graph.add_edge(\"node2\", END)\n",
    "app = graph.compile()\n",
    "from IPython.display import Image, display\n",
    "\n",
    "try:\n",
    "    display(Image(app.get_graph().draw_mermaid_png()))\n",
    "except Exception:\n",
    "    # This requires some extra dependencies and is optional\n",
    "    pass"
   ]
  },
  {
   "cell_type": "code",
   "execution_count": 5,
   "id": "7f9032a9-3f85-4f06-a39a-521518e51efd",
   "metadata": {},
   "outputs": [
    {
     "name": "stdout",
     "output_type": "stream",
     "text": [
      "Output from node 'node1':\n",
      "---\n",
      "Hello! What can I do for you today?\n",
      "\n",
      "---\n",
      "\n",
      "Output from node 'node2':\n",
      "---\n",
      "Nothing, thank you and goodbye!\n",
      "\n",
      "---\n",
      "\n"
     ]
    },
    {
     "data": {
      "text/plain": [
       "{'messages': [HumanMessage(content='Hello, I am a user!', id='c7b8d727-1504-494a-bc2a-48079770dc4c'),\n",
       "  AIMessage(content='Hello! What can I do for you today?', id='8d2e23bd-23be-4647-8db7-107778130d96'),\n",
       "  HumanMessage(content='Nothing, thank you and goodbye!', id='9bfa8b6c-673c-4ba4-bd9c-b1b23a53a528')]}"
      ]
     },
     "execution_count": 5,
     "metadata": {},
     "output_type": "execute_result"
    }
   ],
   "source": [
    "input: CustomState = {\n",
    "    \"messages\":[HumanMessage(content=\"Hello, I am a user!\")]\n",
    "}\n",
    "\n",
    "for output in app.stream(input):\n",
    "    for key, value in output.items():\n",
    "        # This is the output BEFORE the reducer function \"add_messages\" is applied\n",
    "        print(f\"Output from node '{key}':\")\n",
    "        print(\"---\")\n",
    "        print(value['messages'][-1].content)\n",
    "    print(\"\\n---\\n\")    \n",
    "app.invoke(input)"
   ]
  },
  {
   "cell_type": "code",
   "execution_count": 53,
   "id": "ae9196a3-576d-4cb6-96d9-0f1cb79bef7b",
   "metadata": {},
   "outputs": [],
   "source": [
    "graph_builder = StateGraph(CustomState)\n",
    "graph_builder.add_node(\"chatbot\", chatbot) "
   ]
  },
  {
   "cell_type": "code",
   "execution_count": 54,
   "id": "708e78cd",
   "metadata": {},
   "outputs": [],
   "source": [
    "import json\n",
    "class BasicToolNode:\n",
    "    def __init__(self, tools: list) -> None:\n",
    "        self.tools_by_name = {tool.name: tool for tool in tools}\n",
    "    def __call__(self, inputs: dict):\n",
    "        if messages := inputs.get(\"messages\", []):\n",
    "            message = messages[-1]\n",
    "        else:\n",
    "            raise ValueError(\"No messages found in inputs\")\n",
    "\n",
    "        outputs = []\n",
    "        for tool_call in message.tool_calls:\n",
    "\n",
    "            print(tool_call)\n",
    "            tool = self.tools_by_name[tool_call[\"name\"]]\n",
    "\n",
    "            tool_result = tool.invoke(tool_call[\"args\"])\n",
    "            outputs.append(ToolMessage(content=json.dumps(tool_result), name=tool_call[\"name\"], tool_call_id=tool_call[\"id\"]))\n",
    "\n",
    "        return {\"messages\": outputs}\n",
    "\n",
    "tool_node = BasicToolNode(tools=[tool])\n",
    "graph_builder.add_node(\"tools\", tool_node)"
   ]
  },
  {
   "cell_type": "code",
   "execution_count": 55,
   "id": "7cc2faa5",
   "metadata": {},
   "outputs": [],
   "source": [
    "from typing import Literal\n",
    "\n",
    "def route_tools(\n",
    "    state: CustomState,\n",
    "    ) -> Literal[\"tools\", \"__end__\"]:\n",
    "    \"\"\" Use in the conditional_edge to route to the ToolNode if the last message has tool calls. Otherwise, route to the end. \"\"\"\n",
    "\n",
    "    if isinstance(state, list):\n",
    "        ai_message = state[-1]\n",
    "    elif messages := state.get(\"messages\", []):\n",
    "        ai_message = messages[-1]\n",
    "    else:\n",
    "        raise ValueError(f\"No messages found in input state to tool_edge: {state}\")\n",
    "    \n",
    "    if hasattr(ai_message, \"tool_calls\") and len(ai_message.tool_calls) > 0:\n",
    "        return \"tools\"\n",
    "    return \"__end__\"\n"
   ]
  },
  {
   "cell_type": "code",
   "execution_count": 56,
   "id": "ce447a16",
   "metadata": {},
   "outputs": [],
   "source": [
    "graph_builder.add_conditional_edges(\n",
    "    \"chatbot\", \n",
    "    route_tools, \n",
    "    {\"tools\": \"tools\", \"__end__\": \"__end__\"}\n",
    "    )\n",
    "\n",
    "graph_builder.add_edge(\"tools\", \"chatbot\")\n",
    "graph_builder.add_edge(START, \"chatbot\")\n",
    "graph = graph_builder.compile()"
   ]
  },
  {
   "cell_type": "code",
   "execution_count": 57,
   "id": "ccaa9336",
   "metadata": {},
   "outputs": [
    {
     "data": {
      "image/jpeg": "[encoded data removed]",
      "text/plain": [
       "<IPython.core.display.Image object>"
      ]
     },
     "metadata": {},
     "output_type": "display_data"
    }
   ],
   "source": [
    "from IPython.display import Image, display\n",
    "\n",
    "try:\n",
    "    display(Image(graph.get_graph().draw_mermaid_png()))\n",
    "except Exception:\n",
    "    # This requires some extra dependencies and is optional\n",
    "    pass"
   ]
  },
  {
   "cell_type": "code",
   "execution_count": 62,
   "id": "1f6830da",
   "metadata": {},
   "outputs": [
    {
     "name": "stdout",
     "output_type": "stream",
     "text": [
      "{'name': 'tavily_search_results_json', 'args': {'query': 'LangGraph framework'}, 'id': 'call_bisU8iNs1NPpwsJZnBWB5fNz', 'type': 'tool_call'}\n",
      "The LangGraph framework is a low-level framework that is part of the LangChain ecosystem. It is known for offering extensive customization options, allowing developers to build complex Large Language Model (LLM) applications with precision. LangGraph is seamlessly integrated into the LangChain ecosystem, making it easy to leverage its capabilities. You can find more information about LangGraph on the [LangChain website](https://www.langchain.com/langgraph) and on this [article](https://towardsdatascience.com/from-basics-to-advanced-exploring-langgraph-e8c1cf4db787).\n"
     ]
    }
   ],
   "source": [
    "input = {\"messages\": [HumanMessage(content=\"Hello, what can you tell me about the LangGraph framework?\")]}\n",
    "#for event in graph.stream(input):\n",
    "##    for value in event.values():\n",
    "##        if isinstance(value[\"messages\"][-1], BaseMessage):\n",
    "##            print(\"Assistant:\", value[\"messages\"][-1].content)\n",
    "#    for key, value in event.items():\n",
    "#        print(f\"Output from node '{key}':\")\n",
    "#        print(\"---\")\n",
    "#        print(value)\n",
    "#    print(\"\\n---\\n\")            \n",
    "response = graph.invoke(input)\n",
    "print(response[\"messages\"][-1].content)"
   ]
  }
 ],
 "metadata": {
  "kernelspec": {
   "display_name": "Python 3 (ipykernel)",
   "language": "python",
   "name": "python3"
  },
  "language_info": {
   "codemirror_mode": {
    "name": "ipython",
    "version": 3
   },
   "file_extension": ".py",
   "mimetype": "text/x-python",
   "name": "python",
   "nbconvert_exporter": "python",
   "pygments_lexer": "ipython3",
   "version": "3.9.13"
  }
 },
 "nbformat": 4,
 "nbformat_minor": 5
}
