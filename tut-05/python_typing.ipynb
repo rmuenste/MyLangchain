{
 "cells": [
  {
   "cell_type": "code",
   "execution_count": 7,
   "id": "d2c6ba60-6bc5-4967-a3b1-ddfa13d02cf4",
   "metadata": {},
   "outputs": [],
   "source": [
    "from typing import Annotated, List, get_type_hints"
   ]
  },
  {
   "cell_type": "code",
   "execution_count": 8,
   "id": "f0b29ac9-c1ee-47ec-8fdb-de57d3954ab6",
   "metadata": {},
   "outputs": [
    {
     "name": "stdout",
     "output_type": "stream",
     "text": [
      "[1, 2, 3]\n",
      "All list items must be positive!\n"
     ]
    }
   ],
   "source": [
    "# Validation function\n",
    "def check_all_positive(items: List[int]) -> List[int]:\n",
    "    if any(i < 0 for i in items):\n",
    "        raise ValueError(\"All list items must be positive!\")\n",
    "\n",
    "    return items\n",
    "\n",
    "def process_numbers(numbers: Annotated[List[int], check_all_positive]) -> List[int]:\n",
    "    # Retrieve the validator from the annotation (conceptually)\n",
    "    # and apply it to ensure the list is valid\n",
    "    validated_numbers = check_all_positive(numbers)\n",
    "    # Now, return the validated numbers\n",
    "    return validated_numbers\n",
    "\n",
    "# Usage example:\n",
    "try:\n",
    "    print(process_numbers([1, 2, 3]))\n",
    "    print(process_numbers([1,-2, 3]))\n",
    "except ValueError as e:\n",
    "    print(e)\n",
    "    "
   ]
  },
  {
   "cell_type": "code",
   "execution_count": 38,
   "id": "9f6fe099-cdbe-4e13-8b11-d5dd82db0483",
   "metadata": {},
   "outputs": [
    {
     "name": "stdout",
     "output_type": "stream",
     "text": [
      "{'age': typing.Annotated[int, 'Age must be 18 or older'], 'age2': typing.Annotated[int, 'All is fine!'], 'return': <class 'NoneType'>}\n",
      "Age must be 18 or older\n"
     ]
    }
   ],
   "source": [
    "import typing\n",
    "def add_user(age: Annotated[int, \"Age must be 18 or older\"], age2: Annotated[int, \"All is fine!\"]) -> None:\n",
    "    # Retrieve the type hints from the function\n",
    "    hints = get_type_hints(add_user, include_extras=True)\n",
    "    print(hints)\n",
    "    \n",
    "    # Extract the annotation for the 'age' parameter\n",
    "    age_type = hints['age']\n",
    "    all_fine = hints['age2']\n",
    "    #print(all_fine.__metadata__[0])\n",
    "\n",
    "\n",
    "\n",
    "    if isinstance(age_type, typing._AnnotatedAlias):\n",
    "       annotation_message = age_type.__metadata__[0]  # \"Must be 18 or older\"\n",
    "    else:\n",
    "       annotation_message = \"Invalid age\"\n",
    "\n",
    "#    # Check if it has an annotation and extract the message\n",
    "#    if isinstance(age_type, typing._AnnotatedAlias):\n",
    "#        annotation_message = age_type  # \"Must be 18 or older\"\n",
    "#    else:\n",
    "#        annotation_message = \"Invalid age\"\n",
    "#\n",
    "#    if isinstance(all_fine, tuple) and len(all_fine) > 1:\n",
    "#        annotation_message = all_fine[1]  # \"Must be 18 or older\"      \n",
    "#    else:\n",
    "#        print(type(all_fine))\n",
    "#        annotation_message = \"all_fine\"    ##\n",
    "#\n",
    "#    if annotation_message == \"All is fine!\":\n",
    "#      print(annotation_message)\n",
    "#      return\n",
    "    \n",
    "    if age < 18:\n",
    "        raise ValueError(age_type.__metadata__[0])\n",
    "    # Add the user logic here\n",
    "\n",
    "# Test the function\n",
    "try:\n",
    "    add_user(16, 11)\n",
    "except ValueError as e:\n",
    "    print(e)  # Outputs: Must be 18 or older"
   ]
  },
  {
   "cell_type": "code",
   "execution_count": null,
   "id": "d7dc864c-7248-403a-8e6c-4dbec8297599",
   "metadata": {},
   "outputs": [],
   "source": []
  }
 ],
 "metadata": {
  "kernelspec": {
   "display_name": "Python 3 (ipykernel)",
   "language": "python",
   "name": "python3"
  },
  "language_info": {
   "codemirror_mode": {
    "name": "ipython",
    "version": 3
   },
   "file_extension": ".py",
   "mimetype": "text/x-python",
   "name": "python",
   "nbconvert_exporter": "python",
   "pygments_lexer": "ipython3",
   "version": "3.10.12"
  }
 },
 "nbformat": 4,
 "nbformat_minor": 5
}
